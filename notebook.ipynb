{
 "cells": [
  {
   "cell_type": "markdown",
   "metadata": {
    "id": "H9wADwK78DCz"
   },
   "source": [
    "# Proyek Analisis Data: Bike Sharing Dataset\n",
    "- **Nama:** Dinda Putri Khairunnisa\n",
    "- **Email:** dp42364@gmail.com\n",
    "- **ID Dicoding:** dindaputri29"
   ]
  },
  {
   "cell_type": "code",
   "execution_count": null,
   "metadata": {
    "id": "rT9TqgQjyA2o"
   },
   "outputs": [],
   "source": []
  },
  {
   "cell_type": "markdown",
   "metadata": {
    "id": "eE0raob58DC0"
   },
   "source": [
    "## Menentukan Pertanyaan Bisnis"
   ]
  },
  {
   "cell_type": "markdown",
   "metadata": {
    "id": "GmQeQ5YF8DC0"
   },
   "source": [
    "- Apa Hubungan antara Jumlah Penyewaan Sepeda dan Faktor Demografis Pengguna (Casual vs. Registered) dalam Setiap Hari dalam Seminggu?\n",
    "- Bagaimana Pengaruh Faktor keadaan cuaca terhadap Jumlah Penyewaan Sepeda?\n",
    "- Bagaimana Pola Penyewaan Sepeda Berdasarkan Waktu dalam Sehari?\n",
    "- Pada Bulan Apakah terjadi peningkatan penyewaan sepeda dan apakah cuaca cukup berperan?\n",
    "- Bagaimana distribusi penyewaan sepeda berdasarkan rentang suhu, apakah suhu yang lebih tinggi menghasilkan lebih banyak penyewaan sepeda?"
   ]
  },
  {
   "cell_type": "markdown",
   "metadata": {
    "id": "H-z4QGlO8DC1"
   },
   "source": [
    "## Import Semua Packages/Library yang Digunakan"
   ]
  },
  {
   "cell_type": "code",
   "execution_count": 4,
   "metadata": {
    "id": "FVYwaObI8DC1"
   },
   "outputs": [],
   "source": [
    "import numpy as np\n",
    "import pandas as pd\n",
    "import matplotlib.pyplot as plt\n",
    "import seaborn as sns"
   ]
  },
  {
   "cell_type": "markdown",
   "metadata": {
    "id": "h_Sh51Xy8DC1"
   },
   "source": [
    "## Data Wrangling"
   ]
  },
  {
   "cell_type": "markdown",
   "metadata": {
    "id": "sXU2GBYu8DC1"
   },
   "source": [
    "### Gathering Data"
   ]
  },
  {
   "cell_type": "code",
   "execution_count": 6,
   "metadata": {
    "colab": {
     "base_uri": "https://localhost:8080/",
     "height": 495
    },
    "id": "zjCBk1BI8DC1",
    "outputId": "7204be60-e523-4998-e41d-3c376f1a4e21"
   },
   "outputs": [
    {
     "name": "stdout",
     "output_type": "stream",
     "text": [
      "   instant      dteday  season  yr  mnth  holiday  weekday  workingday  \\\n",
      "0        1  2011-01-01       1   0     1        0        6           0   \n",
      "1        2  2011-01-02       1   0     1        0        0           0   \n",
      "2        3  2011-01-03       1   0     1        0        1           1   \n",
      "3        4  2011-01-04       1   0     1        0        2           1   \n",
      "4        5  2011-01-05       1   0     1        0        3           1   \n",
      "\n",
      "   weathersit      temp     atemp       hum  windspeed  casual  registered  \\\n",
      "0           2  0.344167  0.363625  0.805833   0.160446     331         654   \n",
      "1           2  0.363478  0.353739  0.696087   0.248539     131         670   \n",
      "2           1  0.196364  0.189405  0.437273   0.248309     120        1229   \n",
      "3           1  0.200000  0.212122  0.590435   0.160296     108        1454   \n",
      "4           1  0.226957  0.229270  0.436957   0.186900      82        1518   \n",
      "\n",
      "    cnt  \n",
      "0   985  \n",
      "1   801  \n",
      "2  1349  \n",
      "3  1562  \n",
      "4  1600  \n"
     ]
    }
   ],
   "source": [
    "file_path = 'C:/Users/Marcus Tan/Downloads/day.csv'\n",
    "day_df = pd.read_csv(file_path)\n",
    "print(day_df.head())"
   ]
  },
  {
   "cell_type": "code",
   "execution_count": 7,
   "metadata": {
    "id": "IJKSCAm31bhu"
   },
   "outputs": [
    {
     "name": "stdout",
     "output_type": "stream",
     "text": [
      "   instant      dteday  season  yr  mnth  hr  holiday  weekday  workingday  \\\n",
      "0        1  2011-01-01       1   0     1   0        0        6           0   \n",
      "1        2  2011-01-01       1   0     1   1        0        6           0   \n",
      "2        3  2011-01-01       1   0     1   2        0        6           0   \n",
      "3        4  2011-01-01       1   0     1   3        0        6           0   \n",
      "4        5  2011-01-01       1   0     1   4        0        6           0   \n",
      "\n",
      "   weathersit  temp   atemp   hum  windspeed  casual  registered  cnt  \n",
      "0           1  0.24  0.2879  0.81        0.0       3          13   16  \n",
      "1           1  0.22  0.2727  0.80        0.0       8          32   40  \n",
      "2           1  0.22  0.2727  0.80        0.0       5          27   32  \n",
      "3           1  0.24  0.2879  0.75        0.0       3          10   13  \n",
      "4           1  0.24  0.2879  0.75        0.0       0           1    1  \n"
     ]
    }
   ],
   "source": [
    "file_path = 'C:/Users/Marcus Tan/Downloads/hour.csv'\n",
    "hour_df = pd.read_csv(file_path)\n",
    "print(hour_df.head())"
   ]
  },
  {
   "cell_type": "markdown",
   "metadata": {
    "id": "MMi6xGaDkbCi"
   },
   "source": [
    "**Insight:**\n",
    "- Dari tabel yang telah ditampilkan terdapat struktur dari masing masing tabel yaitu terdiri dari (tanggal, musim, tahun, bulan, jam penyewaan, kategori situasi cuaca, suhu, kelempapan, kecepatan angin, jumlah pengguna, dan total penyewaan\n",
    "- untuk tabel hari memuat data penyewaan sepeda berdasarka hari, dan untuk tabel jam memuat data penyewaan sepeda berdasarkan jam\n",
    "- dari data yang ada juga dapat dilihat beberapa pengaruh dari musim, cuaca, hari libur atau hari kerja, serta waktu terhadap banyaknya penyewa sepeda"
   ]
  },
  {
   "cell_type": "markdown",
   "metadata": {
    "id": "FHSiqaZp8DC1"
   },
   "source": [
    "### Assessing Data"
   ]
  },
  {
   "cell_type": "code",
   "execution_count": 8,
   "metadata": {
    "id": "ax-3tEjc9Cj1"
   },
   "outputs": [
    {
     "name": "stdout",
     "output_type": "stream",
     "text": [
      "<class 'pandas.core.frame.DataFrame'>\n",
      "RangeIndex: 731 entries, 0 to 730\n",
      "Data columns (total 16 columns):\n",
      " #   Column      Non-Null Count  Dtype  \n",
      "---  ------      --------------  -----  \n",
      " 0   instant     731 non-null    int64  \n",
      " 1   dteday      731 non-null    object \n",
      " 2   season      731 non-null    int64  \n",
      " 3   yr          731 non-null    int64  \n",
      " 4   mnth        731 non-null    int64  \n",
      " 5   holiday     731 non-null    int64  \n",
      " 6   weekday     731 non-null    int64  \n",
      " 7   workingday  731 non-null    int64  \n",
      " 8   weathersit  731 non-null    int64  \n",
      " 9   temp        731 non-null    float64\n",
      " 10  atemp       731 non-null    float64\n",
      " 11  hum         731 non-null    float64\n",
      " 12  windspeed   731 non-null    float64\n",
      " 13  casual      731 non-null    int64  \n",
      " 14  registered  731 non-null    int64  \n",
      " 15  cnt         731 non-null    int64  \n",
      "dtypes: float64(4), int64(11), object(1)\n",
      "memory usage: 91.5+ KB\n"
     ]
    }
   ],
   "source": [
    "day_df.info()"
   ]
  },
  {
   "cell_type": "code",
   "execution_count": 9,
   "metadata": {},
   "outputs": [
    {
     "name": "stdout",
     "output_type": "stream",
     "text": [
      "Jumlah duplikasi:  0\n"
     ]
    }
   ],
   "source": [
    "print(\"Jumlah duplikasi: \", day_df.duplicated().sum())"
   ]
  },
  {
   "cell_type": "code",
   "execution_count": 10,
   "metadata": {},
   "outputs": [
    {
     "data": {
      "text/html": [
       "<div>\n",
       "<style scoped>\n",
       "    .dataframe tbody tr th:only-of-type {\n",
       "        vertical-align: middle;\n",
       "    }\n",
       "\n",
       "    .dataframe tbody tr th {\n",
       "        vertical-align: top;\n",
       "    }\n",
       "\n",
       "    .dataframe thead th {\n",
       "        text-align: right;\n",
       "    }\n",
       "</style>\n",
       "<table border=\"1\" class=\"dataframe\">\n",
       "  <thead>\n",
       "    <tr style=\"text-align: right;\">\n",
       "      <th></th>\n",
       "      <th>instant</th>\n",
       "      <th>season</th>\n",
       "      <th>yr</th>\n",
       "      <th>mnth</th>\n",
       "      <th>holiday</th>\n",
       "      <th>weekday</th>\n",
       "      <th>workingday</th>\n",
       "      <th>weathersit</th>\n",
       "      <th>temp</th>\n",
       "      <th>atemp</th>\n",
       "      <th>hum</th>\n",
       "      <th>windspeed</th>\n",
       "      <th>casual</th>\n",
       "      <th>registered</th>\n",
       "      <th>cnt</th>\n",
       "    </tr>\n",
       "  </thead>\n",
       "  <tbody>\n",
       "    <tr>\n",
       "      <th>count</th>\n",
       "      <td>731.000000</td>\n",
       "      <td>731.000000</td>\n",
       "      <td>731.000000</td>\n",
       "      <td>731.000000</td>\n",
       "      <td>731.000000</td>\n",
       "      <td>731.000000</td>\n",
       "      <td>731.000000</td>\n",
       "      <td>731.000000</td>\n",
       "      <td>731.000000</td>\n",
       "      <td>731.000000</td>\n",
       "      <td>731.000000</td>\n",
       "      <td>731.000000</td>\n",
       "      <td>731.000000</td>\n",
       "      <td>731.000000</td>\n",
       "      <td>731.000000</td>\n",
       "    </tr>\n",
       "    <tr>\n",
       "      <th>mean</th>\n",
       "      <td>366.000000</td>\n",
       "      <td>2.496580</td>\n",
       "      <td>0.500684</td>\n",
       "      <td>6.519836</td>\n",
       "      <td>0.028728</td>\n",
       "      <td>2.997264</td>\n",
       "      <td>0.683995</td>\n",
       "      <td>1.395349</td>\n",
       "      <td>0.495385</td>\n",
       "      <td>0.474354</td>\n",
       "      <td>0.627894</td>\n",
       "      <td>0.190486</td>\n",
       "      <td>848.176471</td>\n",
       "      <td>3656.172367</td>\n",
       "      <td>4504.348837</td>\n",
       "    </tr>\n",
       "    <tr>\n",
       "      <th>std</th>\n",
       "      <td>211.165812</td>\n",
       "      <td>1.110807</td>\n",
       "      <td>0.500342</td>\n",
       "      <td>3.451913</td>\n",
       "      <td>0.167155</td>\n",
       "      <td>2.004787</td>\n",
       "      <td>0.465233</td>\n",
       "      <td>0.544894</td>\n",
       "      <td>0.183051</td>\n",
       "      <td>0.162961</td>\n",
       "      <td>0.142429</td>\n",
       "      <td>0.077498</td>\n",
       "      <td>686.622488</td>\n",
       "      <td>1560.256377</td>\n",
       "      <td>1937.211452</td>\n",
       "    </tr>\n",
       "    <tr>\n",
       "      <th>min</th>\n",
       "      <td>1.000000</td>\n",
       "      <td>1.000000</td>\n",
       "      <td>0.000000</td>\n",
       "      <td>1.000000</td>\n",
       "      <td>0.000000</td>\n",
       "      <td>0.000000</td>\n",
       "      <td>0.000000</td>\n",
       "      <td>1.000000</td>\n",
       "      <td>0.059130</td>\n",
       "      <td>0.079070</td>\n",
       "      <td>0.000000</td>\n",
       "      <td>0.022392</td>\n",
       "      <td>2.000000</td>\n",
       "      <td>20.000000</td>\n",
       "      <td>22.000000</td>\n",
       "    </tr>\n",
       "    <tr>\n",
       "      <th>25%</th>\n",
       "      <td>183.500000</td>\n",
       "      <td>2.000000</td>\n",
       "      <td>0.000000</td>\n",
       "      <td>4.000000</td>\n",
       "      <td>0.000000</td>\n",
       "      <td>1.000000</td>\n",
       "      <td>0.000000</td>\n",
       "      <td>1.000000</td>\n",
       "      <td>0.337083</td>\n",
       "      <td>0.337842</td>\n",
       "      <td>0.520000</td>\n",
       "      <td>0.134950</td>\n",
       "      <td>315.500000</td>\n",
       "      <td>2497.000000</td>\n",
       "      <td>3152.000000</td>\n",
       "    </tr>\n",
       "    <tr>\n",
       "      <th>50%</th>\n",
       "      <td>366.000000</td>\n",
       "      <td>3.000000</td>\n",
       "      <td>1.000000</td>\n",
       "      <td>7.000000</td>\n",
       "      <td>0.000000</td>\n",
       "      <td>3.000000</td>\n",
       "      <td>1.000000</td>\n",
       "      <td>1.000000</td>\n",
       "      <td>0.498333</td>\n",
       "      <td>0.486733</td>\n",
       "      <td>0.626667</td>\n",
       "      <td>0.180975</td>\n",
       "      <td>713.000000</td>\n",
       "      <td>3662.000000</td>\n",
       "      <td>4548.000000</td>\n",
       "    </tr>\n",
       "    <tr>\n",
       "      <th>75%</th>\n",
       "      <td>548.500000</td>\n",
       "      <td>3.000000</td>\n",
       "      <td>1.000000</td>\n",
       "      <td>10.000000</td>\n",
       "      <td>0.000000</td>\n",
       "      <td>5.000000</td>\n",
       "      <td>1.000000</td>\n",
       "      <td>2.000000</td>\n",
       "      <td>0.655417</td>\n",
       "      <td>0.608602</td>\n",
       "      <td>0.730209</td>\n",
       "      <td>0.233214</td>\n",
       "      <td>1096.000000</td>\n",
       "      <td>4776.500000</td>\n",
       "      <td>5956.000000</td>\n",
       "    </tr>\n",
       "    <tr>\n",
       "      <th>max</th>\n",
       "      <td>731.000000</td>\n",
       "      <td>4.000000</td>\n",
       "      <td>1.000000</td>\n",
       "      <td>12.000000</td>\n",
       "      <td>1.000000</td>\n",
       "      <td>6.000000</td>\n",
       "      <td>1.000000</td>\n",
       "      <td>3.000000</td>\n",
       "      <td>0.861667</td>\n",
       "      <td>0.840896</td>\n",
       "      <td>0.972500</td>\n",
       "      <td>0.507463</td>\n",
       "      <td>3410.000000</td>\n",
       "      <td>6946.000000</td>\n",
       "      <td>8714.000000</td>\n",
       "    </tr>\n",
       "  </tbody>\n",
       "</table>\n",
       "</div>"
      ],
      "text/plain": [
       "          instant      season          yr        mnth     holiday     weekday  \\\n",
       "count  731.000000  731.000000  731.000000  731.000000  731.000000  731.000000   \n",
       "mean   366.000000    2.496580    0.500684    6.519836    0.028728    2.997264   \n",
       "std    211.165812    1.110807    0.500342    3.451913    0.167155    2.004787   \n",
       "min      1.000000    1.000000    0.000000    1.000000    0.000000    0.000000   \n",
       "25%    183.500000    2.000000    0.000000    4.000000    0.000000    1.000000   \n",
       "50%    366.000000    3.000000    1.000000    7.000000    0.000000    3.000000   \n",
       "75%    548.500000    3.000000    1.000000   10.000000    0.000000    5.000000   \n",
       "max    731.000000    4.000000    1.000000   12.000000    1.000000    6.000000   \n",
       "\n",
       "       workingday  weathersit        temp       atemp         hum   windspeed  \\\n",
       "count  731.000000  731.000000  731.000000  731.000000  731.000000  731.000000   \n",
       "mean     0.683995    1.395349    0.495385    0.474354    0.627894    0.190486   \n",
       "std      0.465233    0.544894    0.183051    0.162961    0.142429    0.077498   \n",
       "min      0.000000    1.000000    0.059130    0.079070    0.000000    0.022392   \n",
       "25%      0.000000    1.000000    0.337083    0.337842    0.520000    0.134950   \n",
       "50%      1.000000    1.000000    0.498333    0.486733    0.626667    0.180975   \n",
       "75%      1.000000    2.000000    0.655417    0.608602    0.730209    0.233214   \n",
       "max      1.000000    3.000000    0.861667    0.840896    0.972500    0.507463   \n",
       "\n",
       "            casual   registered          cnt  \n",
       "count   731.000000   731.000000   731.000000  \n",
       "mean    848.176471  3656.172367  4504.348837  \n",
       "std     686.622488  1560.256377  1937.211452  \n",
       "min       2.000000    20.000000    22.000000  \n",
       "25%     315.500000  2497.000000  3152.000000  \n",
       "50%     713.000000  3662.000000  4548.000000  \n",
       "75%    1096.000000  4776.500000  5956.000000  \n",
       "max    3410.000000  6946.000000  8714.000000  "
      ]
     },
     "execution_count": 10,
     "metadata": {},
     "output_type": "execute_result"
    }
   ],
   "source": [
    "day_df.describe()"
   ]
  },
  {
   "cell_type": "markdown",
   "metadata": {
    "id": "7dtxhAPrkhPL"
   },
   "source": [
    "**Insight:**\n",
    "- Pada tabel Day (hari) saat dilakukan pengecekan tipe data terdapat kesalahan pada tipe data untuk dteday yaitu object yang seharusnya adalah date&time\n",
    "- saat dilakukan pengeceka jumlah duplikasi ternyata tidak menunjukan adanya data yang duplikat, dan juga tidak menunjukan keanehan pada nilai pada day_df "
   ]
  },
  {
   "cell_type": "code",
   "execution_count": 11,
   "metadata": {},
   "outputs": [
    {
     "name": "stdout",
     "output_type": "stream",
     "text": [
      "<class 'pandas.core.frame.DataFrame'>\n",
      "RangeIndex: 17379 entries, 0 to 17378\n",
      "Data columns (total 17 columns):\n",
      " #   Column      Non-Null Count  Dtype  \n",
      "---  ------      --------------  -----  \n",
      " 0   instant     17379 non-null  int64  \n",
      " 1   dteday      17379 non-null  object \n",
      " 2   season      17379 non-null  int64  \n",
      " 3   yr          17379 non-null  int64  \n",
      " 4   mnth        17379 non-null  int64  \n",
      " 5   hr          17379 non-null  int64  \n",
      " 6   holiday     17379 non-null  int64  \n",
      " 7   weekday     17379 non-null  int64  \n",
      " 8   workingday  17379 non-null  int64  \n",
      " 9   weathersit  17379 non-null  int64  \n",
      " 10  temp        17379 non-null  float64\n",
      " 11  atemp       17379 non-null  float64\n",
      " 12  hum         17379 non-null  float64\n",
      " 13  windspeed   17379 non-null  float64\n",
      " 14  casual      17379 non-null  int64  \n",
      " 15  registered  17379 non-null  int64  \n",
      " 16  cnt         17379 non-null  int64  \n",
      "dtypes: float64(4), int64(12), object(1)\n",
      "memory usage: 2.3+ MB\n"
     ]
    }
   ],
   "source": [
    "hour_df.info()"
   ]
  },
  {
   "cell_type": "code",
   "execution_count": 12,
   "metadata": {},
   "outputs": [
    {
     "name": "stdout",
     "output_type": "stream",
     "text": [
      "Jumlah duplikasi:  0\n"
     ]
    }
   ],
   "source": [
    "print(\"Jumlah duplikasi: \", hour_df.duplicated().sum())"
   ]
  },
  {
   "cell_type": "code",
   "execution_count": 13,
   "metadata": {},
   "outputs": [
    {
     "data": {
      "text/html": [
       "<div>\n",
       "<style scoped>\n",
       "    .dataframe tbody tr th:only-of-type {\n",
       "        vertical-align: middle;\n",
       "    }\n",
       "\n",
       "    .dataframe tbody tr th {\n",
       "        vertical-align: top;\n",
       "    }\n",
       "\n",
       "    .dataframe thead th {\n",
       "        text-align: right;\n",
       "    }\n",
       "</style>\n",
       "<table border=\"1\" class=\"dataframe\">\n",
       "  <thead>\n",
       "    <tr style=\"text-align: right;\">\n",
       "      <th></th>\n",
       "      <th>instant</th>\n",
       "      <th>season</th>\n",
       "      <th>yr</th>\n",
       "      <th>mnth</th>\n",
       "      <th>hr</th>\n",
       "      <th>holiday</th>\n",
       "      <th>weekday</th>\n",
       "      <th>workingday</th>\n",
       "      <th>weathersit</th>\n",
       "      <th>temp</th>\n",
       "      <th>atemp</th>\n",
       "      <th>hum</th>\n",
       "      <th>windspeed</th>\n",
       "      <th>casual</th>\n",
       "      <th>registered</th>\n",
       "      <th>cnt</th>\n",
       "    </tr>\n",
       "  </thead>\n",
       "  <tbody>\n",
       "    <tr>\n",
       "      <th>count</th>\n",
       "      <td>17379.0000</td>\n",
       "      <td>17379.000000</td>\n",
       "      <td>17379.000000</td>\n",
       "      <td>17379.000000</td>\n",
       "      <td>17379.000000</td>\n",
       "      <td>17379.000000</td>\n",
       "      <td>17379.000000</td>\n",
       "      <td>17379.000000</td>\n",
       "      <td>17379.000000</td>\n",
       "      <td>17379.000000</td>\n",
       "      <td>17379.000000</td>\n",
       "      <td>17379.000000</td>\n",
       "      <td>17379.000000</td>\n",
       "      <td>17379.000000</td>\n",
       "      <td>17379.000000</td>\n",
       "      <td>17379.000000</td>\n",
       "    </tr>\n",
       "    <tr>\n",
       "      <th>mean</th>\n",
       "      <td>8690.0000</td>\n",
       "      <td>2.501640</td>\n",
       "      <td>0.502561</td>\n",
       "      <td>6.537775</td>\n",
       "      <td>11.546752</td>\n",
       "      <td>0.028770</td>\n",
       "      <td>3.003683</td>\n",
       "      <td>0.682721</td>\n",
       "      <td>1.425283</td>\n",
       "      <td>0.496987</td>\n",
       "      <td>0.475775</td>\n",
       "      <td>0.627229</td>\n",
       "      <td>0.190098</td>\n",
       "      <td>35.676218</td>\n",
       "      <td>153.786869</td>\n",
       "      <td>189.463088</td>\n",
       "    </tr>\n",
       "    <tr>\n",
       "      <th>std</th>\n",
       "      <td>5017.0295</td>\n",
       "      <td>1.106918</td>\n",
       "      <td>0.500008</td>\n",
       "      <td>3.438776</td>\n",
       "      <td>6.914405</td>\n",
       "      <td>0.167165</td>\n",
       "      <td>2.005771</td>\n",
       "      <td>0.465431</td>\n",
       "      <td>0.639357</td>\n",
       "      <td>0.192556</td>\n",
       "      <td>0.171850</td>\n",
       "      <td>0.192930</td>\n",
       "      <td>0.122340</td>\n",
       "      <td>49.305030</td>\n",
       "      <td>151.357286</td>\n",
       "      <td>181.387599</td>\n",
       "    </tr>\n",
       "    <tr>\n",
       "      <th>min</th>\n",
       "      <td>1.0000</td>\n",
       "      <td>1.000000</td>\n",
       "      <td>0.000000</td>\n",
       "      <td>1.000000</td>\n",
       "      <td>0.000000</td>\n",
       "      <td>0.000000</td>\n",
       "      <td>0.000000</td>\n",
       "      <td>0.000000</td>\n",
       "      <td>1.000000</td>\n",
       "      <td>0.020000</td>\n",
       "      <td>0.000000</td>\n",
       "      <td>0.000000</td>\n",
       "      <td>0.000000</td>\n",
       "      <td>0.000000</td>\n",
       "      <td>0.000000</td>\n",
       "      <td>1.000000</td>\n",
       "    </tr>\n",
       "    <tr>\n",
       "      <th>25%</th>\n",
       "      <td>4345.5000</td>\n",
       "      <td>2.000000</td>\n",
       "      <td>0.000000</td>\n",
       "      <td>4.000000</td>\n",
       "      <td>6.000000</td>\n",
       "      <td>0.000000</td>\n",
       "      <td>1.000000</td>\n",
       "      <td>0.000000</td>\n",
       "      <td>1.000000</td>\n",
       "      <td>0.340000</td>\n",
       "      <td>0.333300</td>\n",
       "      <td>0.480000</td>\n",
       "      <td>0.104500</td>\n",
       "      <td>4.000000</td>\n",
       "      <td>34.000000</td>\n",
       "      <td>40.000000</td>\n",
       "    </tr>\n",
       "    <tr>\n",
       "      <th>50%</th>\n",
       "      <td>8690.0000</td>\n",
       "      <td>3.000000</td>\n",
       "      <td>1.000000</td>\n",
       "      <td>7.000000</td>\n",
       "      <td>12.000000</td>\n",
       "      <td>0.000000</td>\n",
       "      <td>3.000000</td>\n",
       "      <td>1.000000</td>\n",
       "      <td>1.000000</td>\n",
       "      <td>0.500000</td>\n",
       "      <td>0.484800</td>\n",
       "      <td>0.630000</td>\n",
       "      <td>0.194000</td>\n",
       "      <td>17.000000</td>\n",
       "      <td>115.000000</td>\n",
       "      <td>142.000000</td>\n",
       "    </tr>\n",
       "    <tr>\n",
       "      <th>75%</th>\n",
       "      <td>13034.5000</td>\n",
       "      <td>3.000000</td>\n",
       "      <td>1.000000</td>\n",
       "      <td>10.000000</td>\n",
       "      <td>18.000000</td>\n",
       "      <td>0.000000</td>\n",
       "      <td>5.000000</td>\n",
       "      <td>1.000000</td>\n",
       "      <td>2.000000</td>\n",
       "      <td>0.660000</td>\n",
       "      <td>0.621200</td>\n",
       "      <td>0.780000</td>\n",
       "      <td>0.253700</td>\n",
       "      <td>48.000000</td>\n",
       "      <td>220.000000</td>\n",
       "      <td>281.000000</td>\n",
       "    </tr>\n",
       "    <tr>\n",
       "      <th>max</th>\n",
       "      <td>17379.0000</td>\n",
       "      <td>4.000000</td>\n",
       "      <td>1.000000</td>\n",
       "      <td>12.000000</td>\n",
       "      <td>23.000000</td>\n",
       "      <td>1.000000</td>\n",
       "      <td>6.000000</td>\n",
       "      <td>1.000000</td>\n",
       "      <td>4.000000</td>\n",
       "      <td>1.000000</td>\n",
       "      <td>1.000000</td>\n",
       "      <td>1.000000</td>\n",
       "      <td>0.850700</td>\n",
       "      <td>367.000000</td>\n",
       "      <td>886.000000</td>\n",
       "      <td>977.000000</td>\n",
       "    </tr>\n",
       "  </tbody>\n",
       "</table>\n",
       "</div>"
      ],
      "text/plain": [
       "          instant        season            yr          mnth            hr  \\\n",
       "count  17379.0000  17379.000000  17379.000000  17379.000000  17379.000000   \n",
       "mean    8690.0000      2.501640      0.502561      6.537775     11.546752   \n",
       "std     5017.0295      1.106918      0.500008      3.438776      6.914405   \n",
       "min        1.0000      1.000000      0.000000      1.000000      0.000000   \n",
       "25%     4345.5000      2.000000      0.000000      4.000000      6.000000   \n",
       "50%     8690.0000      3.000000      1.000000      7.000000     12.000000   \n",
       "75%    13034.5000      3.000000      1.000000     10.000000     18.000000   \n",
       "max    17379.0000      4.000000      1.000000     12.000000     23.000000   \n",
       "\n",
       "            holiday       weekday    workingday    weathersit          temp  \\\n",
       "count  17379.000000  17379.000000  17379.000000  17379.000000  17379.000000   \n",
       "mean       0.028770      3.003683      0.682721      1.425283      0.496987   \n",
       "std        0.167165      2.005771      0.465431      0.639357      0.192556   \n",
       "min        0.000000      0.000000      0.000000      1.000000      0.020000   \n",
       "25%        0.000000      1.000000      0.000000      1.000000      0.340000   \n",
       "50%        0.000000      3.000000      1.000000      1.000000      0.500000   \n",
       "75%        0.000000      5.000000      1.000000      2.000000      0.660000   \n",
       "max        1.000000      6.000000      1.000000      4.000000      1.000000   \n",
       "\n",
       "              atemp           hum     windspeed        casual    registered  \\\n",
       "count  17379.000000  17379.000000  17379.000000  17379.000000  17379.000000   \n",
       "mean       0.475775      0.627229      0.190098     35.676218    153.786869   \n",
       "std        0.171850      0.192930      0.122340     49.305030    151.357286   \n",
       "min        0.000000      0.000000      0.000000      0.000000      0.000000   \n",
       "25%        0.333300      0.480000      0.104500      4.000000     34.000000   \n",
       "50%        0.484800      0.630000      0.194000     17.000000    115.000000   \n",
       "75%        0.621200      0.780000      0.253700     48.000000    220.000000   \n",
       "max        1.000000      1.000000      0.850700    367.000000    886.000000   \n",
       "\n",
       "                cnt  \n",
       "count  17379.000000  \n",
       "mean     189.463088  \n",
       "std      181.387599  \n",
       "min        1.000000  \n",
       "25%       40.000000  \n",
       "50%      142.000000  \n",
       "75%      281.000000  \n",
       "max      977.000000  "
      ]
     },
     "execution_count": 13,
     "metadata": {},
     "output_type": "execute_result"
    }
   ],
   "source": [
    "hour_df.describe()"
   ]
  },
  {
   "cell_type": "markdown",
   "metadata": {
    "id": "7dtxhAPrkhPL"
   },
   "source": [
    "**Insight:**\n",
    "- Pada tabel hour (jam) saat dilakukan pengecekan tipe data terdapat kesalahan pada tipe data untuk dteday yaitu object yang seharusnya adalah date&time\n",
    "- saat dilakukan pengecekan jumlah duplikasi ternyata tidak menunjukan adanya data yang duplikat, dan juga tidak menunjukan keanehan pada nilai pada hour_df "
   ]
  },
  {
   "cell_type": "markdown",
   "metadata": {
    "id": "EhN5R4hr8DC1"
   },
   "source": [
    "### Cleaning Data"
   ]
  },
  {
   "cell_type": "code",
   "execution_count": 14,
   "metadata": {
    "id": "jVnYpprE9Evz"
   },
   "outputs": [],
   "source": [
    "datetime_columns = [\"dteday\"]\n",
    " \n",
    "for column in datetime_columns:\n",
    "  day_df[column] = pd.to_datetime(day_df[column])"
   ]
  },
  {
   "cell_type": "code",
   "execution_count": 15,
   "metadata": {},
   "outputs": [
    {
     "name": "stdout",
     "output_type": "stream",
     "text": [
      "<class 'pandas.core.frame.DataFrame'>\n",
      "RangeIndex: 731 entries, 0 to 730\n",
      "Data columns (total 16 columns):\n",
      " #   Column      Non-Null Count  Dtype         \n",
      "---  ------      --------------  -----         \n",
      " 0   instant     731 non-null    int64         \n",
      " 1   dteday      731 non-null    datetime64[ns]\n",
      " 2   season      731 non-null    int64         \n",
      " 3   yr          731 non-null    int64         \n",
      " 4   mnth        731 non-null    int64         \n",
      " 5   holiday     731 non-null    int64         \n",
      " 6   weekday     731 non-null    int64         \n",
      " 7   workingday  731 non-null    int64         \n",
      " 8   weathersit  731 non-null    int64         \n",
      " 9   temp        731 non-null    float64       \n",
      " 10  atemp       731 non-null    float64       \n",
      " 11  hum         731 non-null    float64       \n",
      " 12  windspeed   731 non-null    float64       \n",
      " 13  casual      731 non-null    int64         \n",
      " 14  registered  731 non-null    int64         \n",
      " 15  cnt         731 non-null    int64         \n",
      "dtypes: datetime64[ns](1), float64(4), int64(11)\n",
      "memory usage: 91.5 KB\n"
     ]
    }
   ],
   "source": [
    "day_df.info()"
   ]
  },
  {
   "cell_type": "code",
   "execution_count": 16,
   "metadata": {},
   "outputs": [],
   "source": [
    "datetime_columns = [\"dteday\"]\n",
    " \n",
    "for column in datetime_columns:\n",
    "  hour_df[column] = pd.to_datetime(hour_df[column])"
   ]
  },
  {
   "cell_type": "code",
   "execution_count": 17,
   "metadata": {},
   "outputs": [
    {
     "name": "stdout",
     "output_type": "stream",
     "text": [
      "<class 'pandas.core.frame.DataFrame'>\n",
      "RangeIndex: 17379 entries, 0 to 17378\n",
      "Data columns (total 17 columns):\n",
      " #   Column      Non-Null Count  Dtype         \n",
      "---  ------      --------------  -----         \n",
      " 0   instant     17379 non-null  int64         \n",
      " 1   dteday      17379 non-null  datetime64[ns]\n",
      " 2   season      17379 non-null  int64         \n",
      " 3   yr          17379 non-null  int64         \n",
      " 4   mnth        17379 non-null  int64         \n",
      " 5   hr          17379 non-null  int64         \n",
      " 6   holiday     17379 non-null  int64         \n",
      " 7   weekday     17379 non-null  int64         \n",
      " 8   workingday  17379 non-null  int64         \n",
      " 9   weathersit  17379 non-null  int64         \n",
      " 10  temp        17379 non-null  float64       \n",
      " 11  atemp       17379 non-null  float64       \n",
      " 12  hum         17379 non-null  float64       \n",
      " 13  windspeed   17379 non-null  float64       \n",
      " 14  casual      17379 non-null  int64         \n",
      " 15  registered  17379 non-null  int64         \n",
      " 16  cnt         17379 non-null  int64         \n",
      "dtypes: datetime64[ns](1), float64(4), int64(12)\n",
      "memory usage: 2.3 MB\n"
     ]
    }
   ],
   "source": [
    "hour_df.info()"
   ]
  },
  {
   "cell_type": "markdown",
   "metadata": {
    "id": "Q_5ejIqckiSP"
   },
   "source": [
    "**Insight:**\n",
    "- Dilakukan cleaning pada day_df dan hour_df untuk mengubah tipe data pada coloumn dteday menjadi tipe data untuk tanggal\n",
    "- setelah dilakukan cleaning tipe data berubah menjadi date&time"
   ]
  },
  {
   "cell_type": "markdown",
   "metadata": {
    "id": "gp-Y6wU38DC1"
   },
   "source": [
    "## Exploratory Data Analysis (EDA)"
   ]
  },
  {
   "cell_type": "markdown",
   "metadata": {
    "id": "MW7WF2kr8DC1"
   },
   "source": [
    "### Explore Data Day_df"
   ]
  },
  {
   "cell_type": "code",
   "execution_count": 18,
   "metadata": {
    "id": "e9CQCZjk8DC2"
   },
   "outputs": [
    {
     "name": "stdout",
     "output_type": "stream",
     "text": [
      "         casual  registered     cnt\n",
      "weekday                            \n",
      "0        140521      303506  444027\n",
      "1         70784      384719  455503\n",
      "2         57843      411266  469109\n",
      "3         57319      415729  473048\n",
      "4         61460      423935  485395\n",
      "5         78238      409552  487790\n",
      "6        153852      323955  477807\n"
     ]
    }
   ],
   "source": [
    "grouped_data = day_df.groupby(['weekday']).agg({\n",
    "    'casual': 'sum',\n",
    "    'registered': 'sum',\n",
    "    'cnt': 'sum'\n",
    "})\n",
    "print (grouped_data)"
   ]
  },
  {
   "cell_type": "markdown",
   "metadata": {
    "id": "th_Lzl2Fkj9O"
   },
   "source": [
    "**Insight:**\n",
    "- berdasarkan eksplorasi pada data day_df dapat dilihat bahwa dalam satu minggu penyewaan sepeda banyak dilakukan oleh penyewa yang sudah teregister atau terdaftar dan pada hari kamis.\n"
   ]
  },
  {
   "cell_type": "markdown",
   "metadata": {},
   "source": [
    "### Explore Data Hour_df"
   ]
  },
  {
   "cell_type": "code",
   "execution_count": 19,
   "metadata": {},
   "outputs": [
    {
     "data": {
      "text/plain": [
       "hr\n",
       "0      39130\n",
       "1      24164\n",
       "2      16352\n",
       "3       8174\n",
       "4       4428\n",
       "5      14261\n",
       "6      55132\n",
       "7     154171\n",
       "8     261001\n",
       "9     159438\n",
       "10    126257\n",
       "11    151320\n",
       "12    184414\n",
       "13    184919\n",
       "14    175652\n",
       "15    183149\n",
       "16    227748\n",
       "17    336860\n",
       "18    309772\n",
       "19    226789\n",
       "20    164550\n",
       "21    125445\n",
       "22     95612\n",
       "23     63941\n",
       "Name: cnt, dtype: int64"
      ]
     },
     "execution_count": 19,
     "metadata": {},
     "output_type": "execute_result"
    }
   ],
   "source": [
    "hour_df.groupby(by=\"hr\")['cnt'].sum()"
   ]
  },
  {
   "cell_type": "markdown",
   "metadata": {
    "id": "th_Lzl2Fkj9O"
   },
   "source": [
    "**Insight:**\n",
    "- berdasarkan eksplorasi pada data hour_df dapat dilihat bahwa dalam satu hari penyewaan sepeda banyak dilakukan oleh penyewa pada jam jam produktif atau jam berangkat dan pulang bekerja."
   ]
  },
  {
   "cell_type": "markdown",
   "metadata": {
    "id": "MW7WF2kr8DC1"
   },
   "source": [
    "### Explore Data all_df"
   ]
  },
  {
   "cell_type": "code",
   "execution_count": 29,
   "metadata": {},
   "outputs": [
    {
     "name": "stdout",
     "output_type": "stream",
     "text": [
      "Index(['instant', 'dteday_x', 'season_x', 'yr_x', 'mnth_x', 'holiday_x',\n",
      "       'weekday_x', 'workingday_x', 'weathersit_x', 'temp_x', 'atemp_x',\n",
      "       'hum_x', 'windspeed_x', 'casual_x', 'registered_x', 'cnt_x', 'dteday_y',\n",
      "       'season_y', 'yr_y', 'mnth_y', 'hr', 'holiday_y', 'weekday_y',\n",
      "       'workingday_y', 'weathersit_y', 'temp_y', 'atemp_y', 'hum_y',\n",
      "       'windspeed_y', 'casual_y', 'registered_y', 'cnt_y'],\n",
      "      dtype='object')\n"
     ]
    }
   ],
   "source": [
    "all_df = pd.merge(\n",
    "    left= day_df,\n",
    "    right= hour_df,\n",
    "    how =\"left\",\n",
    "    left_on =\"instant\",\n",
    "    right_on =\"instant\"\n",
    ")\n",
    "all_df.head()\n",
    "print(all_df.columns)"
   ]
  },
  {
   "cell_type": "code",
   "execution_count": 35,
   "metadata": {},
   "outputs": [
    {
     "name": "stdout",
     "output_type": "stream",
     "text": [
      "           casual_x  registered_x   cnt_x\n",
      "weekday_x                                \n",
      "0            140521        303506  444027\n",
      "1             70784        384719  455503\n",
      "2             57843        411266  469109\n",
      "3             57319        415729  473048\n",
      "4             61460        423935  485395\n",
      "5             78238        409552  487790\n",
      "6            153852        323955  477807\n"
     ]
    }
   ],
   "source": [
    "grouped_weekday_all = all_df.groupby(['weekday_x']).agg({\n",
    "    'casual_x': 'sum',\n",
    "    'registered_x': 'sum',\n",
    "    'cnt_x': 'sum'\n",
    "})\n",
    "print(grouped_weekday_all)"
   ]
  },
  {
   "cell_type": "code",
   "execution_count": 36,
   "metadata": {},
   "outputs": [
    {
     "name": "stdout",
     "output_type": "stream",
     "text": [
      "                 cnt_x  season_x    temp_x     hum_x  windspeed_x  \\\n",
      "cnt_x         1.000000  0.406100  0.627494 -0.100659    -0.234545   \n",
      "season_x      0.406100  1.000000  0.334315  0.205445    -0.229046   \n",
      "temp_x        0.627494  0.334315  1.000000  0.126963    -0.157944   \n",
      "hum_x        -0.100659  0.205445  0.126963  1.000000    -0.248489   \n",
      "windspeed_x  -0.234545 -0.229046 -0.157944 -0.248489     1.000000   \n",
      "weathersit_x -0.297391  0.019211 -0.120602  0.591045     0.039511   \n",
      "\n",
      "              weathersit_x  \n",
      "cnt_x            -0.297391  \n",
      "season_x          0.019211  \n",
      "temp_x           -0.120602  \n",
      "hum_x             0.591045  \n",
      "windspeed_x       0.039511  \n",
      "weathersit_x      1.000000  \n"
     ]
    }
   ],
   "source": [
    "correlation_all = all_df[['cnt_x', 'season_x', 'temp_x', 'hum_x', 'windspeed_x', 'weathersit_x']].corr()\n",
    "print(correlation_all)"
   ]
  },
  {
   "cell_type": "code",
   "execution_count": 37,
   "metadata": {},
   "outputs": [
    {
     "name": "stdout",
     "output_type": "stream",
     "text": [
      "season_x\n",
      "3    188\n",
      "2    184\n",
      "1    181\n",
      "4    178\n",
      "Name: instant, dtype: int64\n"
     ]
    }
   ],
   "source": [
    "season_rentals_all = all_df.groupby(by=\"season_x\").instant.nunique().sort_values(ascending=False)\n",
    "print(season_rentals_all)"
   ]
  },
  {
   "cell_type": "code",
   "execution_count": 38,
   "metadata": {},
   "outputs": [
    {
     "name": "stdout",
     "output_type": "stream",
     "text": [
      "weathersit_x\n",
      "1    463\n",
      "2    247\n",
      "3     21\n",
      "Name: instant, dtype: int64\n"
     ]
    }
   ],
   "source": [
    "weather_rentals_all = all_df.groupby(by=\"weathersit_x\").instant.nunique().sort_values(ascending=False)\n",
    "print(weather_rentals_all)"
   ]
  },
  {
   "cell_type": "code",
   "execution_count": 39,
   "metadata": {},
   "outputs": [
    {
     "name": "stdout",
     "output_type": "stream",
     "text": [
      "mnth_x\n",
      "1     134933\n",
      "2     151352\n",
      "3     228920\n",
      "4     269094\n",
      "5     331686\n",
      "6     346342\n",
      "7     344948\n",
      "8     351194\n",
      "9     345991\n",
      "10    322352\n",
      "11    254831\n",
      "12    211036\n",
      "Name: cnt_x, dtype: int64\n"
     ]
    }
   ],
   "source": [
    "monthly_rentals_all = all_df.groupby(by=\"mnth_x\")['cnt_x'].sum()\n",
    "print(monthly_rentals_all)"
   ]
  },
  {
   "cell_type": "code",
   "execution_count": 42,
   "metadata": {},
   "outputs": [
    {
     "name": "stdout",
     "output_type": "stream",
     "text": [
      "        casual_x  registered_x   cnt_x\n",
      "mnth_x                                \n",
      "1          12042        122891  134933\n",
      "2          14963        136389  151352\n",
      "3          44444        184476  228920\n",
      "4          60802        208292  269094\n",
      "5          75285        256401  331686\n",
      "6          73906        272436  346342\n",
      "7          78157        266791  344948\n",
      "8          72039        279155  351194\n",
      "9          70323        275668  345991\n",
      "10         59760        262592  322352\n",
      "11         36603        218228  254831\n",
      "12         21693        189343  211036\n"
     ]
    }
   ],
   "source": [
    "grouped_month_all = all_df.groupby(['mnth_x']).agg({\n",
    "    'casual_x': 'sum',\n",
    "    'registered_x': 'sum',\n",
    "    'cnt_x': 'sum'\n",
    "})\n",
    "print(grouped_month_all)"
   ]
  },
  {
   "cell_type": "code",
   "execution_count": 44,
   "metadata": {},
   "outputs": [
    {
     "name": "stdout",
     "output_type": "stream",
     "text": [
      "hr\n",
      "0      448\n",
      "1      301\n",
      "2      203\n",
      "3       97\n",
      "4       45\n",
      "5      112\n",
      "6      555\n",
      "7     1574\n",
      "8     3839\n",
      "9     2619\n",
      "10    1597\n",
      "11    1729\n",
      "12    2298\n",
      "13    2345\n",
      "14    2251\n",
      "15    2335\n",
      "16    2763\n",
      "17    4394\n",
      "18    3830\n",
      "19    2725\n",
      "20    1831\n",
      "21    1317\n",
      "22     987\n",
      "23     670\n",
      "Name: cnt_y, dtype: int64\n"
     ]
    }
   ],
   "source": [
    "hourly_rentals_all = all_df.groupby(by=\"hr\")['cnt_y'].sum()\n",
    "print(hourly_rentals_all)"
   ]
  },
  {
   "cell_type": "markdown",
   "metadata": {
    "id": "th_Lzl2Fkj9O"
   },
   "source": [
    "**Insight:**\n",
    "- berdasarkan eksplorasi pada data day_df dapat dilihat bahwa dalam satu minggu penyewaan sepeda banyak dilakukan oleh penyewa yang sudah teregister atau terdaftar dan pada hari kamis.\n"
   ]
  },
  {
   "cell_type": "markdown",
   "metadata": {
    "id": "zsyZjqak8DC2"
   },
   "source": [
    "## Visualization & Explanatory Analysis"
   ]
  },
  {
   "cell_type": "markdown",
   "metadata": {
    "id": "HZxOiQ6n8DC2"
   },
   "source": [
    "### Pertanyaan 1: - Apa Hubungan antara Jumlah Penyewaan Sepeda dan Faktor Demografis Pengguna (Casual vs. Registered) dalam Setiap Hari dalam Seminggu?\n"
   ]
  },
  {
   "cell_type": "code",
   "execution_count": 45,
   "metadata": {
    "id": "1swJUdAD8DC2"
   },
   "outputs": [
    {
     "data": {
      "image/png": "[encoded data removed]",
      "text/plain": [
       "<Figure size 1000x500 with 1 Axes>"
      ]
     },
     "metadata": {},
     "output_type": "display_data"
    }
   ],
   "source": [
    "daily_rent_df = all_df.groupby(['weekday_x']).agg({\n",
    "    'casual_x': 'sum',\n",
    "    'registered_x': 'sum',\n",
    "    'cnt_x': 'sum'\n",
    "})\n",
    "\n",
    "day_names = {0: 'Sunday', 1: 'Monday', 2: 'Tuesday', 3: 'Wednesday', \n",
    "             4: 'Thursday', 5: 'Friday', 6: 'Saturday'}\n",
    "daily_rent_df.index = daily_rent_df.index.map(day_names)\n",
    "\n",
    "daily_rent_df = daily_rent_df.reset_index()\n",
    "\n",
    "x = np.arange(len(daily_rent_df))\n",
    "days = daily_rent_df['weekday_x']\n",
    "\n",
    "plt.figure(figsize=(10, 5))\n",
    "plt.bar(x + 0.2, daily_rent_df['registered_x'], width=0.4, label='Registered', color='blue')\n",
    "plt.bar(x - 0.2, daily_rent_df['casual_x'], width=0.4, label='Casual', color='orange')\n",
    "plt.xlabel('Days')\n",
    "plt.ylabel('Total Rent')\n",
    "plt.title('Bike Rentals by Casual and Registered Users for Each Day of the Week')\n",
    "plt.xticks(ticks=x, labels=days)\n",
    "plt.legend()\n",
    "plt.grid(True)\n",
    "plt.show()"
   ]
  },
  {
   "cell_type": "markdown",
   "metadata": {
    "id": "DgHI7CiU8DC2"
   },
   "source": [
    "### Pertanyaan 2: Bagaimana Pengaruh Faktor keadaan cuaca terhadap Jumlah Penyewaan Sepeda?"
   ]
  },
  {
   "cell_type": "code",
   "execution_count": 53,
   "metadata": {
    "id": "Go0lCsvO8DC2"
   },
   "outputs": [
    {
     "data": {
      "image/png": "[encoded data removed]",
      "text/plain": [
       "<Figure size 1200x500 with 2 Axes>"
      ]
     },
     "metadata": {},
     "output_type": "display_data"
    }
   ],
   "source": [
    "fig, ax = plt.subplots(nrows=1, ncols=2, figsize=(12, 5))\n",
    "\n",
    "colors_weather = [\"#72BCD4\", \"#D3D3D3\", \"#D3D3D3\"]\n",
    "colors_season = [\"#72BCD4\", \"#D3D3D3\", \"#D3D3D3\", \"#D3D3D3\"]\n",
    "\n",
    "sns.barplot(x=\"weathersit_x\", y='cnt_x', data=all_df, hue='weathersit_x', ax=ax[0], palette=colors_weather)\n",
    "ax[0].set_ylabel('Total Rentals')\n",
    "ax[0].set_xlabel('Weather Situation (1: Clear, 2: Mist, 3: Rain, 4: Heavy Rain)')\n",
    "ax[0].set_title('Distribution Rentals by Weather', loc=\"center\", fontsize=15)\n",
    "ax[0].tick_params(axis='y', labelsize=12)\n",
    "\n",
    "\n",
    "sns.barplot(x=\"season_x\", y='cnt_x', data=all_df, hue='season_x', ax=ax[1], palette=colors_season)\n",
    "ax[1].set_ylabel('Total Rentals')\n",
    "ax[1].set_xlabel('Season (1: Spring, 2: Summer, 3: Fall, 4: Winter)')\n",
    "ax[1].set_title('Distribution Rentals by Season', loc=\"center\", fontsize=15)\n",
    "ax[1].tick_params(axis='y', labelsize=12)\n",
    "\n",
    "plt.suptitle(\"Distribution Rentals by Season and Weather\", fontsize=20)\n",
    "plt.tight_layout(rect=[0, 0, 1, 0.96]) \n",
    "plt.show()"
   ]
  },
  {
   "cell_type": "markdown",
   "metadata": {},
   "source": [
    "### Pertanyaan 3: Bagaimana Pola Penyewaan Sepeda Berdasarkan Waktu dalam Sehari?"
   ]
  },
  {
   "cell_type": "code",
   "execution_count": 54,
   "metadata": {},
   "outputs": [
    {
     "data": {
      "image/png": "[encoded data removed]",
      "text/plain": [
       "<Figure size 1000x500 with 1 Axes>"
      ]
     },
     "metadata": {},
     "output_type": "display_data"
    }
   ],
   "source": [
    "hourly_rent_df = all_df.groupby(by=\"hr\")['cnt_y'].sum()\n",
    "\n",
    "plt.figure(figsize=(10, 5)) \n",
    "plt.plot(hourly_rent_df.index, hourly_rent_df.values, marker='o', linewidth=2, color=\"pink\") \n",
    "plt.title(\"Number of Rentals per Hour\", loc=\"center\", fontsize=20) \n",
    "plt.xlabel('Hour of the Day', fontsize=12)\n",
    "plt.ylabel('Total Rentals', fontsize=12) \n",
    "plt.xticks(fontsize=10) \n",
    "plt.yticks(fontsize=10) \n",
    "plt.grid() \n",
    "plt.show()"
   ]
  },
  {
   "cell_type": "markdown",
   "metadata": {},
   "source": [
    "### Pertanyaan 4: Pada Bulan Apakah terjadi peningkatan penyewaan sepeda dan apakah cuaca cukup berperan?"
   ]
  },
  {
   "cell_type": "code",
   "execution_count": 57,
   "metadata": {},
   "outputs": [
    {
     "data": {
      "image/png": "[encoded data removed]",
      "text/plain": [
       "<Figure size 2400x600 with 1 Axes>"
      ]
     },
     "metadata": {},
     "output_type": "display_data"
    }
   ],
   "source": [
    "monthly_rent_df = all_df.groupby('mnth_x')['cnt_x'].sum().reset_index()\n",
    "monthly_weather_df = all_df.groupby('mnth_x').agg({\n",
    "    'atemp_x': 'mean', \n",
    "    'hum_x': 'mean'     \n",
    "}).reset_index()\n",
    "\n",
    "monthly_summary_df = pd.merge(monthly_rent_df, monthly_weather_df, on='mnth_x')\n",
    "\n",
    "month_names = {\n",
    "    1: 'January', 2: 'February', 3: 'March',\n",
    "    4: 'April', 5: 'May', 6: 'June',\n",
    "    7: 'July', 8: 'August', 9: 'September',\n",
    "    10: 'October', 11: 'November', 12: 'December'\n",
    "}\n",
    "\n",
    "monthly_summary_df['month_name'] = monthly_summary_df['mnth_x'].map(month_names)\n",
    "\n",
    "plt.figure(figsize=(24, 6))\n",
    "plt.scatter(monthly_summary_df['month_name'], monthly_summary_df['atemp_x'], color='red')\n",
    "plt.title(\"Bike Rentals vs Average Temperature per Month\", fontsize=20)\n",
    "plt.xlabel(\"Month\", fontsize=14)\n",
    "plt.ylabel(\"Average Temperature (°C)\", fontsize=14)\n",
    "plt.xticks(fontsize=10)\n",
    "plt.yticks(fontsize=10)\n",
    "plt.grid(True)\n",
    "\n",
    "for i, row in monthly_summary_df.iterrows():\n",
    "    plt.annotate(row['cnt_x'], (row['month_name'], row['atemp_x']), textcoords=\"offset points\", xytext=(0,10), ha='center')\n",
    "\n",
    "plt.show()"
   ]
  },
  {
   "cell_type": "markdown",
   "metadata": {
    "id": "9y4VUsmcYNZ5"
   },
   "source": [
    "## Analisis Lanjutan (Binning) Pertanyaan 5 : Bagaimana distribusi penyewaan sepeda berdasarkan rentang suhu, apakah suhu yang lebih tinggi menghasilkan lebih banyak penyewaan sepeda?"
   ]
  },
  {
   "cell_type": "code",
   "execution_count": 60,
   "metadata": {
    "id": "iWhnzsJGYUCO"
   },
   "outputs": [
    {
     "data": {
      "image/png": "[encoded data removed]",
      "text/plain": [
       "<Figure size 640x480 with 1 Axes>"
      ]
     },
     "metadata": {},
     "output_type": "display_data"
    }
   ],
   "source": [
    "bins = [0, 10, 20, 30, 40]\n",
    "labels = ['0-10°C', '11-20°C', '21-30°C', '31-40°C']\n",
    "\n",
    "monthly_summary_df['temp_bin'] = pd.cut(monthly_summary_df['atemp_x'] * 50, bins=bins, labels=labels)\n",
    "binned_rentals = monthly_summary_df.groupby('temp_bin', observed=False)['cnt_x'].sum().reset_index()\n",
    "\n",
    "plt.bar(binned_rentals['temp_bin'], binned_rentals['cnt_x'], color='skyblue')\n",
    "plt.title('Bike Rentals by Temperature', fontsize=20)\n",
    "plt.xlabel('Temperature Range', fontsize=14)\n",
    "plt.ylabel('Total Rentals', fontsize=14)\n",
    "plt.xticks(fontsize=10)\n",
    "plt.yticks(fontsize=10)\n",
    "plt.grid(axis='y')\n",
    "\n",
    "plt.show()"
   ]
  },
  {
   "cell_type": "markdown",
   "metadata": {},
   "source": [
    "**Insight:**\n",
    "- Pada Tampilan Visual menggunaakan Bar chart, Scatter, Dan Line Chart untuk menampilkan data "
   ]
  },
  {
   "cell_type": "markdown",
   "metadata": {
    "id": "_WeHlCeX8DC2"
   },
   "source": [
    "## Conclusion"
   ]
  },
  {
   "cell_type": "markdown",
   "metadata": {
    "id": "ZTcyR48Y8DC2"
   },
   "source": [
    "- Conclution pertanyaan 1\n",
    "Dari visualisasi penyewaan sepeda, terlihat bahwa pengguna terdaftar lebih sering menyewa sepeda selama hari kerja, menunjukkan penggunaan rutin seperti untuk bekerja atau sekolah. Sebaliknya, pengguna kasual cenderung menyewa sepeda lebih banyak pada akhir pekan, terutama Sabtu dan Minggu, yang berkemungkinan untuk kegiatan rekreasi. Secara keseluruhan, penyewaan oleh pengguna terdaftar jauh lebih tinggi dibandingkan pengguna kasual pada hari-hari kerja.\n",
    "- Conclution pertanyaan 2\n",
    "visualisasi penyewaan sepeda berdasarkan cuaca dan musim, terlihat bahwa jumlah penyewaan sepeda paling tinggi pada cuaca cerah (Clear) dan paling rendah saat hujan atau cuaca buruk. Selain itu, penyewaan sepeda juga lebih banyak terjadi selama musim panas dan gugur, sementara musim dingin menunjukkan penurunan penyewaan yang signifikan. Ini menunjukkan bahwa kondisi cuaca yang lebih baik dan musim yang lebih hangat cenderung mendorong lebih banyak penyewaan sepeda.\n",
    "- Conclution pertanyaan 3\n",
    "Dari visualisasi pola penyewaan sepeda berdasarkan waktu dalam sehari, terlihat bahwa jumlah penyewaan sepeda cenderung meningkat pada pagi hari (sekitar jam 7-9 pagi) dan sore hari (sekitar jam 5-7 sore). Ini menunjukkan adanya dua puncak penyewaan yang kemungkinan terkait dengan waktu sibuk, ketika orang-orang berangkat dan pulang dari tempat kerja atau sekolah. Di luar jam-jam tersebut, penyewaan cenderung lebih rendah, terutama pada malam hari.\n",
    "- Conclution pertanyaan 4\n",
    "Penyewaan sepeda mengalami peningkatan yang signifikan selama bulan-bulan pada musim panas, khususnya pada bulan Mei hingga Agustus. Hal ini menunjukkan bahwa periode dengan suhu yang lebih hangat membuat lebih banyak orang untuk menggunakan sepeda, diperkirakan untuk transportasi maupun rekreasi. Cuaca sangat berperan penting dalam pola ini, di mana suhu rata-rata yang lebih tinggi cenderung berkorelasi dengan peningkatan jumlah penyewaan. Sebaliknya, selama bulan-bulan dengan suhu yang lebih rendah, terutama di musim dingin, jumlah penyewaan sepeda menurun.\n",
    "- Conclution pertanyaan 5\n",
    "Dari visualisasi, terlihat bahwa penyewaan sepeda paling banyak terjadi pada rentang suhu yang lebih hangat, khususnya antara 21-30°C. Menunjukkan bahwa kondisi suhu yang lebih hangat dan nyaman mendorong peningkatan penyewaan sepeda. Sebaliknya, pada suhu yang lebih rendah (0-10°C), penyewaan sepeda jauh lebih sedikit, menunjukkan bahwa cuaca yang lebih dingin mengurangi minat orang untuk menyewa sepeda."
   ]
  },
  {
   "cell_type": "code",
   "execution_count": null,
   "metadata": {},
   "outputs": [],
   "source": [
    "all_df.to_csv(\"all_data.csv\", index=False)"
   ]
  },
  {
   "cell_type": "code",
   "execution_count": 1,
   "metadata": {},
   "outputs": [
    {
     "name": "stdout",
     "output_type": "stream",
     "text": [
      "Collecting streamlitNote: you may need to restart the kernel to use updated packages.\n",
      "\n",
      "  Downloading streamlit-1.39.0-py2.py3-none-any.whl.metadata (8.5 kB)\n",
      "Requirement already satisfied: babel in c:\\users\\marcus tan\\.virtualenvs\\proyek_analisis_data-dmbhttfl\\lib\\site-packages (2.16.0)\n",
      "Collecting altair<6,>=4.0 (from streamlit)\n",
      "  Downloading altair-5.4.1-py3-none-any.whl.metadata (9.4 kB)\n",
      "Collecting blinker<2,>=1.0.0 (from streamlit)\n",
      "  Downloading blinker-1.8.2-py3-none-any.whl.metadata (1.6 kB)\n",
      "Collecting cachetools<6,>=4.0 (from streamlit)\n",
      "  Downloading cachetools-5.5.0-py3-none-any.whl.metadata (5.3 kB)\n",
      "Collecting click<9,>=7.0 (from streamlit)\n",
      "  Downloading click-8.1.7-py3-none-any.whl.metadata (3.0 kB)\n",
      "Requirement already satisfied: numpy<3,>=1.20 in c:\\users\\marcus tan\\.virtualenvs\\proyek_analisis_data-dmbhttfl\\lib\\site-packages (from streamlit) (2.1.1)\n",
      "Requirement already satisfied: packaging<25,>=20 in c:\\users\\marcus tan\\.virtualenvs\\proyek_analisis_data-dmbhttfl\\lib\\site-packages (from streamlit) (24.1)\n",
      "Requirement already satisfied: pandas<3,>=1.4.0 in c:\\users\\marcus tan\\.virtualenvs\\proyek_analisis_data-dmbhttfl\\lib\\site-packages (from streamlit) (2.2.3)\n",
      "Requirement already satisfied: pillow<11,>=7.1.0 in c:\\users\\marcus tan\\.virtualenvs\\proyek_analisis_data-dmbhttfl\\lib\\site-packages (from streamlit) (10.4.0)\n",
      "Collecting protobuf<6,>=3.20 (from streamlit)\n",
      "  Downloading protobuf-5.28.2-cp310-abi3-win_amd64.whl.metadata (592 bytes)\n",
      "Collecting pyarrow>=7.0 (from streamlit)\n",
      "  Downloading pyarrow-17.0.0-cp312-cp312-win_amd64.whl.metadata (3.4 kB)\n",
      "Requirement already satisfied: requests<3,>=2.27 in c:\\users\\marcus tan\\.virtualenvs\\proyek_analisis_data-dmbhttfl\\lib\\site-packages (from streamlit) (2.32.3)\n",
      "Collecting rich<14,>=10.14.0 (from streamlit)\n",
      "  Downloading rich-13.9.1-py3-none-any.whl.metadata (18 kB)\n",
      "Collecting tenacity<10,>=8.1.0 (from streamlit)\n",
      "  Downloading tenacity-9.0.0-py3-none-any.whl.metadata (1.2 kB)\n",
      "Collecting toml<2,>=0.10.1 (from streamlit)\n",
      "  Downloading toml-0.10.2-py2.py3-none-any.whl.metadata (7.1 kB)\n",
      "Collecting typing-extensions<5,>=4.3.0 (from streamlit)\n",
      "  Downloading typing_extensions-4.12.2-py3-none-any.whl.metadata (3.0 kB)\n",
      "Collecting gitpython!=3.1.19,<4,>=3.0.7 (from streamlit)\n",
      "  Downloading GitPython-3.1.43-py3-none-any.whl.metadata (13 kB)\n",
      "Collecting pydeck<1,>=0.8.0b4 (from streamlit)\n",
      "  Downloading pydeck-0.9.1-py2.py3-none-any.whl.metadata (4.1 kB)\n",
      "Requirement already satisfied: tornado<7,>=6.0.3 in c:\\users\\marcus tan\\.virtualenvs\\proyek_analisis_data-dmbhttfl\\lib\\site-packages (from streamlit) (6.4.1)\n",
      "Collecting watchdog<6,>=2.1.5 (from streamlit)\n",
      "  Downloading watchdog-5.0.3-py3-none-win_amd64.whl.metadata (41 kB)\n",
      "Requirement already satisfied: jinja2 in c:\\users\\marcus tan\\.virtualenvs\\proyek_analisis_data-dmbhttfl\\lib\\site-packages (from altair<6,>=4.0->streamlit) (3.1.4)\n",
      "Requirement already satisfied: jsonschema>=3.0 in c:\\users\\marcus tan\\.virtualenvs\\proyek_analisis_data-dmbhttfl\\lib\\site-packages (from altair<6,>=4.0->streamlit) (4.23.0)\n",
      "Collecting narwhals>=1.5.2 (from altair<6,>=4.0->streamlit)\n",
      "  Downloading narwhals-1.9.0-py3-none-any.whl.metadata (6.8 kB)\n",
      "Requirement already satisfied: colorama in c:\\users\\marcus tan\\.virtualenvs\\proyek_analisis_data-dmbhttfl\\lib\\site-packages (from click<9,>=7.0->streamlit) (0.4.6)\n",
      "Collecting gitdb<5,>=4.0.1 (from gitpython!=3.1.19,<4,>=3.0.7->streamlit)\n",
      "  Downloading gitdb-4.0.11-py3-none-any.whl.metadata (1.2 kB)\n",
      "Requirement already satisfied: python-dateutil>=2.8.2 in c:\\users\\marcus tan\\.virtualenvs\\proyek_analisis_data-dmbhttfl\\lib\\site-packages (from pandas<3,>=1.4.0->streamlit) (2.9.0.post0)\n",
      "Requirement already satisfied: pytz>=2020.1 in c:\\users\\marcus tan\\.virtualenvs\\proyek_analisis_data-dmbhttfl\\lib\\site-packages (from pandas<3,>=1.4.0->streamlit) (2024.2)\n",
      "Requirement already satisfied: tzdata>=2022.7 in c:\\users\\marcus tan\\.virtualenvs\\proyek_analisis_data-dmbhttfl\\lib\\site-packages (from pandas<3,>=1.4.0->streamlit) (2024.2)\n",
      "Requirement already satisfied: charset-normalizer<4,>=2 in c:\\users\\marcus tan\\.virtualenvs\\proyek_analisis_data-dmbhttfl\\lib\\site-packages (from requests<3,>=2.27->streamlit) (3.3.2)\n",
      "Requirement already satisfied: idna<4,>=2.5 in c:\\users\\marcus tan\\.virtualenvs\\proyek_analisis_data-dmbhttfl\\lib\\site-packages (from requests<3,>=2.27->streamlit) (3.10)\n",
      "Requirement already satisfied: urllib3<3,>=1.21.1 in c:\\users\\marcus tan\\.virtualenvs\\proyek_analisis_data-dmbhttfl\\lib\\site-packages (from requests<3,>=2.27->streamlit) (2.2.3)\n",
      "Requirement already satisfied: certifi>=2017.4.17 in c:\\users\\marcus tan\\.virtualenvs\\proyek_analisis_data-dmbhttfl\\lib\\site-packages (from requests<3,>=2.27->streamlit) (2024.8.30)\n",
      "Collecting markdown-it-py>=2.2.0 (from rich<14,>=10.14.0->streamlit)\n",
      "  Downloading markdown_it_py-3.0.0-py3-none-any.whl.metadata (6.9 kB)\n",
      "Requirement already satisfied: pygments<3.0.0,>=2.13.0 in c:\\users\\marcus tan\\.virtualenvs\\proyek_analisis_data-dmbhttfl\\lib\\site-packages (from rich<14,>=10.14.0->streamlit) (2.18.0)\n",
      "Collecting smmap<6,>=3.0.1 (from gitdb<5,>=4.0.1->gitpython!=3.1.19,<4,>=3.0.7->streamlit)\n",
      "  Downloading smmap-5.0.1-py3-none-any.whl.metadata (4.3 kB)\n",
      "Requirement already satisfied: MarkupSafe>=2.0 in c:\\users\\marcus tan\\.virtualenvs\\proyek_analisis_data-dmbhttfl\\lib\\site-packages (from jinja2->altair<6,>=4.0->streamlit) (2.1.5)\n",
      "Requirement already satisfied: attrs>=22.2.0 in c:\\users\\marcus tan\\.virtualenvs\\proyek_analisis_data-dmbhttfl\\lib\\site-packages (from jsonschema>=3.0->altair<6,>=4.0->streamlit) (24.2.0)\n",
      "Requirement already satisfied: jsonschema-specifications>=2023.03.6 in c:\\users\\marcus tan\\.virtualenvs\\proyek_analisis_data-dmbhttfl\\lib\\site-packages (from jsonschema>=3.0->altair<6,>=4.0->streamlit) (2023.12.1)\n",
      "Requirement already satisfied: referencing>=0.28.4 in c:\\users\\marcus tan\\.virtualenvs\\proyek_analisis_data-dmbhttfl\\lib\\site-packages (from jsonschema>=3.0->altair<6,>=4.0->streamlit) (0.35.1)\n",
      "Requirement already satisfied: rpds-py>=0.7.1 in c:\\users\\marcus tan\\.virtualenvs\\proyek_analisis_data-dmbhttfl\\lib\\site-packages (from jsonschema>=3.0->altair<6,>=4.0->streamlit) (0.20.0)\n",
      "Collecting mdurl~=0.1 (from markdown-it-py>=2.2.0->rich<14,>=10.14.0->streamlit)\n",
      "  Downloading mdurl-0.1.2-py3-none-any.whl.metadata (1.6 kB)\n",
      "Requirement already satisfied: six>=1.5 in c:\\users\\marcus tan\\.virtualenvs\\proyek_analisis_data-dmbhttfl\\lib\\site-packages (from python-dateutil>=2.8.2->pandas<3,>=1.4.0->streamlit) (1.16.0)\n",
      "Downloading streamlit-1.39.0-py2.py3-none-any.whl (8.7 MB)\n",
      "   ---------------------------------------- 0.0/8.7 MB ? eta -:--:--\n",
      "   - -------------------------------------- 0.3/8.7 MB ? eta -:--:--\n",
      "   --- ------------------------------------ 0.8/8.7 MB 1.7 MB/s eta 0:00:05\n",
      "   ----- ---------------------------------- 1.3/8.7 MB 2.2 MB/s eta 0:00:04\n",
      "   -------- ------------------------------- 1.8/8.7 MB 2.2 MB/s eta 0:00:04\n",
      "   ---------- ----------------------------- 2.4/8.7 MB 2.2 MB/s eta 0:00:03\n",
      "   ------------- -------------------------- 2.9/8.7 MB 2.4 MB/s eta 0:00:03\n",
      "   --------------- ------------------------ 3.4/8.7 MB 2.3 MB/s eta 0:00:03\n",
      "   ----------------- ---------------------- 3.9/8.7 MB 2.4 MB/s eta 0:00:03\n",
      "   --------------------- ------------------ 4.7/8.7 MB 2.4 MB/s eta 0:00:02\n",
      "   ---------------------- ----------------- 5.0/8.7 MB 2.4 MB/s eta 0:00:02\n",
      "   ------------------------- -------------- 5.5/8.7 MB 2.4 MB/s eta 0:00:02\n",
      "   --------------------------- ------------ 6.0/8.7 MB 2.4 MB/s eta 0:00:02\n",
      "   ---------------------------- ----------- 6.3/8.7 MB 2.4 MB/s eta 0:00:02\n",
      "   -------------------------------- ------- 7.1/8.7 MB 2.4 MB/s eta 0:00:01\n",
      "   ---------------------------------- ----- 7.6/8.7 MB 2.4 MB/s eta 0:00:01\n",
      "   -------------------------------------- - 8.4/8.7 MB 2.4 MB/s eta 0:00:01\n",
      "   ---------------------------------------  8.7/8.7 MB 2.4 MB/s eta 0:00:01\n",
      "   ---------------------------------------- 8.7/8.7 MB 2.4 MB/s eta 0:00:00\n",
      "Downloading altair-5.4.1-py3-none-any.whl (658 kB)\n",
      "   ---------------------------------------- 0.0/658.1 kB ? eta -:--:--\n",
      "   --------------- ------------------------ 262.1/658.1 kB ? eta -:--:--\n",
      "   ------------------------------- -------- 524.3/658.1 kB 2.1 MB/s eta 0:00:01\n",
      "   ---------------------------------------- 658.1/658.1 kB 1.3 MB/s eta 0:00:00\n",
      "Downloading blinker-1.8.2-py3-none-any.whl (9.5 kB)\n",
      "Downloading cachetools-5.5.0-py3-none-any.whl (9.5 kB)\n",
      "Downloading click-8.1.7-py3-none-any.whl (97 kB)\n",
      "Downloading GitPython-3.1.43-py3-none-any.whl (207 kB)\n",
      "Downloading protobuf-5.28.2-cp310-abi3-win_amd64.whl (431 kB)\n",
      "Downloading pyarrow-17.0.0-cp312-cp312-win_amd64.whl (25.1 MB)\n",
      "   ---------------------------------------- 0.0/25.1 MB ? eta -:--:--\n",
      "   ---------------------------------------- 0.3/25.1 MB ? eta -:--:--\n",
      "   - -------------------------------------- 0.8/25.1 MB 2.0 MB/s eta 0:00:13\n",
      "   -- ------------------------------------- 1.3/25.1 MB 2.2 MB/s eta 0:00:11\n",
      "   -- ------------------------------------- 1.8/25.1 MB 2.2 MB/s eta 0:00:11\n",
      "   --- ------------------------------------ 2.4/25.1 MB 2.3 MB/s eta 0:00:10\n",
      "   ---- ----------------------------------- 2.9/25.1 MB 2.4 MB/s eta 0:00:10\n",
      "   ----- ---------------------------------- 3.4/25.1 MB 2.4 MB/s eta 0:00:10\n",
      "   ------ --------------------------------- 3.9/25.1 MB 2.4 MB/s eta 0:00:09\n",
      "   ------- -------------------------------- 4.5/25.1 MB 2.4 MB/s eta 0:00:09\n",
      "   ------- -------------------------------- 5.0/25.1 MB 2.4 MB/s eta 0:00:09\n",
      "   -------- ------------------------------- 5.5/25.1 MB 2.4 MB/s eta 0:00:09\n",
      "   --------- ------------------------------ 6.0/25.1 MB 2.4 MB/s eta 0:00:08\n",
      "   ---------- ----------------------------- 6.6/25.1 MB 2.4 MB/s eta 0:00:08\n",
      "   ----------- ---------------------------- 7.1/25.1 MB 2.4 MB/s eta 0:00:08\n",
      "   ------------ --------------------------- 7.6/25.1 MB 2.4 MB/s eta 0:00:08\n",
      "   ------------ --------------------------- 7.9/25.1 MB 2.4 MB/s eta 0:00:08\n",
      "   ------------- -------------------------- 8.4/25.1 MB 2.4 MB/s eta 0:00:08\n",
      "   -------------- ------------------------- 8.9/25.1 MB 2.4 MB/s eta 0:00:07\n",
      "   -------------- ------------------------- 9.2/25.1 MB 2.3 MB/s eta 0:00:07\n",
      "   --------------- ------------------------ 10.0/25.1 MB 2.3 MB/s eta 0:00:07\n",
      "   ---------------- ----------------------- 10.5/25.1 MB 2.4 MB/s eta 0:00:07\n",
      "   ----------------- ---------------------- 10.7/25.1 MB 2.4 MB/s eta 0:00:07\n",
      "   ----------------- ---------------------- 11.0/25.1 MB 2.3 MB/s eta 0:00:07\n",
      "   ----------------- ---------------------- 11.3/25.1 MB 2.2 MB/s eta 0:00:07\n",
      "   ------------------ --------------------- 11.5/25.1 MB 2.2 MB/s eta 0:00:07\n",
      "   ------------------- -------------------- 12.1/25.1 MB 2.2 MB/s eta 0:00:06\n",
      "   -------------------- ------------------- 12.8/25.1 MB 2.2 MB/s eta 0:00:06\n",
      "   -------------------- ------------------- 13.1/25.1 MB 2.2 MB/s eta 0:00:06\n",
      "   --------------------- ------------------ 13.6/25.1 MB 2.2 MB/s eta 0:00:06\n",
      "   ---------------------- ----------------- 14.2/25.1 MB 2.2 MB/s eta 0:00:05\n",
      "   ---------------------- ----------------- 14.4/25.1 MB 2.2 MB/s eta 0:00:05\n",
      "   ------------------------ --------------- 15.2/25.1 MB 2.2 MB/s eta 0:00:05\n",
      "   ------------------------- -------------- 15.7/25.1 MB 2.3 MB/s eta 0:00:05\n",
      "   ------------------------- -------------- 16.3/25.1 MB 2.3 MB/s eta 0:00:04\n",
      "   -------------------------- ------------- 16.8/25.1 MB 2.3 MB/s eta 0:00:04\n",
      "   --------------------------- ------------ 17.3/25.1 MB 2.3 MB/s eta 0:00:04\n",
      "   ---------------------------- ----------- 17.8/25.1 MB 2.3 MB/s eta 0:00:04\n",
      "   ----------------------------- ---------- 18.4/25.1 MB 2.3 MB/s eta 0:00:03\n",
      "   ------------------------------ --------- 18.9/25.1 MB 2.3 MB/s eta 0:00:03\n",
      "   ------------------------------ --------- 19.4/25.1 MB 2.3 MB/s eta 0:00:03\n",
      "   ------------------------------- -------- 19.9/25.1 MB 2.3 MB/s eta 0:00:03\n",
      "   -------------------------------- ------- 20.4/25.1 MB 2.3 MB/s eta 0:00:03\n",
      "   --------------------------------- ------ 21.0/25.1 MB 2.3 MB/s eta 0:00:02\n",
      "   --------------------------------- ------ 21.2/25.1 MB 2.3 MB/s eta 0:00:02\n",
      "   ---------------------------------- ----- 21.8/25.1 MB 2.3 MB/s eta 0:00:02\n",
      "   ----------------------------------- ---- 22.0/25.1 MB 2.3 MB/s eta 0:00:02\n",
      "   ----------------------------------- ---- 22.5/25.1 MB 2.3 MB/s eta 0:00:02\n",
      "   ------------------------------------ --- 23.1/25.1 MB 2.3 MB/s eta 0:00:01\n",
      "   ------------------------------------- -- 23.3/25.1 MB 2.3 MB/s eta 0:00:01\n",
      "   -------------------------------------- - 23.9/25.1 MB 2.2 MB/s eta 0:00:01\n",
      "   -------------------------------------- - 24.4/25.1 MB 2.3 MB/s eta 0:00:01\n",
      "   ---------------------------------------  24.9/25.1 MB 2.3 MB/s eta 0:00:01\n",
      "   ---------------------------------------  24.9/25.1 MB 2.3 MB/s eta 0:00:01\n",
      "   ---------------------------------------- 25.1/25.1 MB 2.2 MB/s eta 0:00:00\n",
      "Downloading pydeck-0.9.1-py2.py3-none-any.whl (6.9 MB)\n",
      "   ---------------------------------------- 0.0/6.9 MB ? eta -:--:--\n",
      "   - -------------------------------------- 0.3/6.9 MB ? eta -:--:--\n",
      "   ---- ----------------------------------- 0.8/6.9 MB 2.1 MB/s eta 0:00:03\n",
      "   ------- -------------------------------- 1.3/6.9 MB 2.2 MB/s eta 0:00:03\n",
      "   --------- ------------------------------ 1.6/6.9 MB 2.1 MB/s eta 0:00:03\n",
      "   ------------ --------------------------- 2.1/6.9 MB 2.1 MB/s eta 0:00:03\n",
      "   --------------- ------------------------ 2.6/6.9 MB 2.1 MB/s eta 0:00:03\n",
      "   ---------------- ----------------------- 2.9/6.9 MB 2.1 MB/s eta 0:00:02\n",
      "   ------------------- -------------------- 3.4/6.9 MB 2.0 MB/s eta 0:00:02\n",
      "   ---------------------- ----------------- 3.9/6.9 MB 2.1 MB/s eta 0:00:02\n",
      "   ------------------------- -------------- 4.5/6.9 MB 2.2 MB/s eta 0:00:02\n",
      "   ------------------------------ --------- 5.2/6.9 MB 2.3 MB/s eta 0:00:01\n",
      "   ------------------------------- -------- 5.5/6.9 MB 2.2 MB/s eta 0:00:01\n",
      "   ---------------------------------- ----- 6.0/6.9 MB 2.2 MB/s eta 0:00:01\n",
      "   ------------------------------------- -- 6.6/6.9 MB 2.2 MB/s eta 0:00:01\n",
      "   ---------------------------------------- 6.9/6.9 MB 2.2 MB/s eta 0:00:00\n",
      "Downloading rich-13.9.1-py3-none-any.whl (242 kB)\n",
      "Downloading tenacity-9.0.0-py3-none-any.whl (28 kB)\n",
      "Downloading toml-0.10.2-py2.py3-none-any.whl (16 kB)\n",
      "Downloading typing_extensions-4.12.2-py3-none-any.whl (37 kB)\n",
      "Downloading watchdog-5.0.3-py3-none-win_amd64.whl (79 kB)\n",
      "Downloading gitdb-4.0.11-py3-none-any.whl (62 kB)\n",
      "Downloading markdown_it_py-3.0.0-py3-none-any.whl (87 kB)\n",
      "Downloading narwhals-1.9.0-py3-none-any.whl (178 kB)\n",
      "Downloading mdurl-0.1.2-py3-none-any.whl (10.0 kB)\n",
      "Downloading smmap-5.0.1-py3-none-any.whl (24 kB)\n",
      "Installing collected packages: watchdog, typing-extensions, toml, tenacity, smmap, pyarrow, protobuf, narwhals, mdurl, click, cachetools, blinker, pydeck, markdown-it-py, gitdb, rich, gitpython, altair, streamlit\n",
      "Successfully installed altair-5.4.1 blinker-1.8.2 cachetools-5.5.0 click-8.1.7 gitdb-4.0.11 gitpython-3.1.43 markdown-it-py-3.0.0 mdurl-0.1.2 narwhals-1.9.0 protobuf-5.28.2 pyarrow-17.0.0 pydeck-0.9.1 rich-13.9.1 smmap-5.0.1 streamlit-1.39.0 tenacity-9.0.0 toml-0.10.2 typing-extensions-4.12.2 watchdog-5.0.3\n"
     ]
    }
   ],
   "source": [
    "pip install streamlit babel"
   ]
  },
  {
   "cell_type": "code",
   "execution_count": null,
   "metadata": {},
   "outputs": [],
   "source": []
  }
 ],
 "metadata": {
  "colab": {
   "provenance": []
  },
  "kernelspec": {
   "display_name": "Python 3 (ipykernel)",
   "language": "python",
   "name": "python3"
  },
  "language_info": {
   "codemirror_mode": {
    "name": "ipython",
    "version": 3
   },
   "file_extension": ".py",
   "mimetype": "text/x-python",
   "name": "python",
   "nbconvert_exporter": "python",
   "pygments_lexer": "ipython3",
   "version": "3.12.6"
  },
  "vscode": {
   "interpreter": {
    "hash": "972b3bf27e332e87b5379f2791f6ef9dfc79c71018c370b0d7423235e20fe4d7"
   }
  }
 },
 "nbformat": 4,
 "nbformat_minor": 4
}
